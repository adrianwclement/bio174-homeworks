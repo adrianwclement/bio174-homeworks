{
 "cells": [
  {
   "cell_type": "markdown",
   "metadata": {},
   "source": [
    "# 1. Partial Correlations\n",
    "\n",
    "Modify the code of the `partial_cor()` function from Class 09d, so that it takes as input a correlation matrix and the name of one variable, and returns the partial correlation for each pair of variables controlled for the variable you passed to the function.\n",
    "\n",
    "For example, if you use the correlation matrices that we calculated in Class 9d, you could use the function by calling: `partial_cor(cor1, CAI)`, this would return the partial correlation of each pair of variables (minus CAI) controlled by CAI.\n",
    "\n",
    "To do this, please save the `result` dataframe from Class 9d to a file, copy the file to the homework directory, read the file into a datframe, calculate the correlation matrix, and finally test your function."
   ]
  },
  {
   "cell_type": "code",
   "execution_count": 9,
   "metadata": {
    "collapsed": true
   },
   "outputs": [
    {
     "name": "stdout",
     "output_type": "stream",
     "text": [
      "                      dS        dN     dN/dS  dS adjusted  dN/dS adjusted  \\\n",
      "dS              1.000000  0.334624  0.081485     1.000000        0.145174   \n",
      "dN              0.334624  1.000000  0.942190     0.334624        0.967828   \n",
      "dN/dS           0.081485  0.942190  1.000000     0.081485        0.992111   \n",
      "dS adjusted     1.000000  0.334624  0.081485     1.000000        0.145175   \n",
      "dN/dS adjusted  0.145174  0.967828  0.992111     0.145175        1.000000   \n",
      "fitness         0.072793  0.171000  0.174507     0.072793        0.173285   \n",
      "fdS             0.922889  0.227405 -0.007260     0.922889        0.056628   \n",
      "fdN             0.370816  0.827892  0.818125     0.370816        0.812879   \n",
      "fdNdS           0.136501  0.798871  0.854336     0.136502        0.829747   \n",
      "fdSadj          0.994316  0.322453  0.067914     0.994316        0.132763   \n",
      "fdNdSadj        0.216480  0.824645  0.858034     0.216480        0.842410   \n",
      "\n",
      "                 fitness       fdS       fdN     fdNdS    fdSadj  fdNdSadj  \n",
      "dS              0.072793  0.922889  0.370816  0.136501  0.994316  0.216480  \n",
      "dN              0.171000  0.227405  0.827892  0.798871  0.322453  0.824645  \n",
      "dN/dS           0.174507 -0.007260  0.818125  0.854336  0.067914  0.858034  \n",
      "dS adjusted     0.072793  0.922889  0.370816  0.136502  0.994316  0.216480  \n",
      "dN/dS adjusted  0.173285  0.056628  0.812879  0.829747  0.132763  0.842410  \n",
      "fitness         1.000000  0.068038  0.224950  0.216680  0.072368  0.223637  \n",
      "fdS             0.068038  1.000000  0.304332  0.052298  0.933469  0.154180  \n",
      "fdN             0.224950  0.304332  1.000000  0.965591  0.368648  0.985984  \n",
      "fdNdS           0.216680  0.052298  0.965591  1.000000  0.131464  0.990333  \n",
      "fdSadj          0.072368  0.933469  0.368648  0.131464  1.000000  0.213110  \n",
      "fdNdSadj        0.223637  0.154180  0.985984  0.990333  0.213110  1.000000  \n"
     ]
    }
   ],
   "source": [
    "import pandas as pd\n",
    "from math import sqrt\n",
    "\n",
    "\n",
    "result = pd.read_csv(\"result_df.csv\")\n",
    "cor1 = result.corr(numeric_only=True)\n",
    "\n",
    "def partial_cor(cor, x):\n",
    "    partialCor = cor.copy()\n",
    "    partialCor = partialCor.drop(x, axis=0)\n",
    "    partialCor = partialCor.drop(x, axis=1)\n",
    "\n",
    "    for i in partialCor.columns:\n",
    "        for j in partialCor.columns:\n",
    "            if i != j:\n",
    "                num = cor.loc[i, j] - cor.loc[i, x] * cor.loc[j, x]\n",
    "                denom = sqrt((1 - cor.loc[i, x] ** 2) * (1 - cor.loc[j, x] ** 2))\n",
    "                partialCor.loc[i, j] = num / denom\n",
    "\n",
    "    return partialCor\n",
    "\n",
    "print(partial_cor(cor1, 'CAI'))"
   ]
  },
  {
   "attachments": {},
   "cell_type": "markdown",
   "metadata": {},
   "source": [
    "# 2. Results from Wall et al.\n",
    "\n",
    "Download the HTML page for the Wall et al paper from the PNAS website (https://www.pnas.org/content/102/15/5483/) using your browser. Then use BeautifulSoup (not pandas) to parse the HTML and scrape Table 1, finally print the value of the BeautifulSoup variable containing the table using the `IPYthon.display.Markdown` function to display the table. \n",
    "\n",
    "(Unfortunately, we cannot automatically download the HMTL for the page anymore because the PNAS site uses Cloudfare to prevent users from scraping so we cannot use python's request package to download the page)"
   ]
  },
  {
   "cell_type": "code",
   "execution_count": 13,
   "metadata": {
    "collapsed": true
   },
   "outputs": [
    {
     "data": {
      "text/markdown": [
       "| 0              | 1                | 2        | 3              | 4         | 5        | 6         |\n",
       "|:---------------|:-----------------|:---------|:---------------|:----------|:---------|:----------|\n",
       "| Evolution rate | Dispensability   | rdk      | Expression     | rxk       | rdk|x    | xk|d      |\n",
       "| dN/dS′         | Warringer et al. | 0.239 np | mRNA abundance | -0.368 np | 0.183 np | -0.328 np |\n",
       "|                |                  |          | CAI            | -0.528 np | 0.190 np | -0.513 np |\n",
       "| dN             | Warringer et al. | 0.237 np | mRNA abundance | -0.363 np | 0.181 np | -0.324 np |\n",
       "|                |                  |          | CAI            | -0.493 np | 0.189 np | -0.478 np |\n",
       "| dN/dS′         | SGTC             | 0.230 np | mRNA abundance | -0.368 np | 0.166 np | -0.330 np |\n",
       "|                |                  |          | CAI            | -0.528 np | 0.187 np | -0.516 np |\n",
       "| dN             | SGTC             | 0.227 np | mRNA abundance | -0.363 np | 0.163 np | -0.325 np |\n",
       "|                |                  |          | CAI            | -0.493 np | 0.185 np | -0.479 np |\n",
       "| dN/dS′         | Warringer et al. | 0.274    | mRNA abundance | -0.279    | 0.259    | -0.256    |\n",
       "|                |                  |          | CAI            | -0.522    | 0.241    | -0.505    |\n",
       "| dN             | Warringer et al. | 0.274    | mRNA abundance | -0.282    | 0.259    | -0.259    |\n",
       "|                |                  |          | CAI            | -0.509    | 0.241    | -0.491    |\n",
       "| dN/dS′         | SGTC             | 0.264    | mRNA abundance | -0.279    | 0.252    | -0.258    |\n",
       "|                |                  |          | CAI            | -0.522    | 0.232    | -0.505    |\n",
       "| dN             | SGTC             | 0.264    | mRNA abundance | -0.282    | 0.251    | -0.262    |\n",
       "|                |                  |          | CAI            | -0.509    | 0.232    | -0.491    |"
      ],
      "text/plain": [
       "<IPython.core.display.Markdown object>"
      ]
     },
     "metadata": {},
     "output_type": "display_data"
    }
   ],
   "source": [
    "from bs4 import BeautifulSoup\n",
    "import pandas as pd\n",
    "from IPython.display import display, Markdown\n",
    "\n",
    "\n",
    "file = open(\"wall.html\")\n",
    "html = file.read()\n",
    "\n",
    "soup = BeautifulSoup(html, \"html.parser\")\n",
    "table = soup.find(\"table\")\n",
    "rows = table.find_all('tr')\n",
    "totalTable = []\n",
    "\n",
    "for tr in rows:\n",
    "    cells = tr.findAll('td')\n",
    "    row = []\n",
    "    for th in tr.find_all('th'):\n",
    "        row.append(th.get_text().strip())\n",
    "    for td in cells:\n",
    "        row.append(td.get_text().strip())\n",
    "    totalTable.append(row)\n",
    "\n",
    "finalTable = pd.DataFrame(totalTable)\n",
    "\n",
    "finalDataTable = finalTable.to_markdown(index=False)\n",
    "\n",
    "display(Markdown(finalDataTable))"
   ]
  }
 ],
 "metadata": {
  "kernelspec": {
   "display_name": "base",
   "language": "python",
   "name": "python3"
  },
  "language_info": {
   "codemirror_mode": {
    "name": "ipython",
    "version": 3
   },
   "file_extension": ".py",
   "mimetype": "text/x-python",
   "name": "python",
   "nbconvert_exporter": "python",
   "pygments_lexer": "ipython3",
   "version": "3.11.5"
  },
  "vscode": {
   "interpreter": {
    "hash": "d65c0cc447810067c5360fe9f92345cbb6ea5cebea71d6b4fb533385ef0f3420"
   }
  }
 },
 "nbformat": 4,
 "nbformat_minor": 2
}
